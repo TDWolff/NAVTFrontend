{
 "cells": [
  {
   "cell_type": "markdown",
   "metadata": {},
   "source": [
    "---\n",
    "toc: true\n",
    "comments: true\n",
    "layout: notebook\n",
    "title: IPYNB Table, Code\n",
    "description:  Example!!! This sample shows markdown cell, markdown table, markdown code fencing, and code cells.\n",
    "courses: { compsci: {week: 13} }\n",
    "type: hacks\n",
    "---"
   ]
  },
  {
   "cell_type": "markdown",
   "metadata": {},
   "source": [
    "## Theory and background for Deployment\n",
    "\n",
    "- Deployment is mainly used for backend, this is because in order to deploy our main website to test our backend.\n",
    "- Any APIs or anything that is used in python will be tested in the backend\n",
    "- We are going to be deploying our CPT project (make sure its your team one and not your individual used for the spotcheck)\n",
    "- "
   ]
  },
  {
   "cell_type": "markdown",
   "metadata": {},
   "source": [
    "## Tools for Deployment (Varun)\n",
    "\n",
    "- AWS\n",
    "- Amazon Web Services (AWS) EC2 is a cloud platform provided by the PUSD district for students to use in hosting our Web Application.\n",
    "\n",
    "- GitHub is a widely used platform for sharing code over the Internet.\n",
    "\n",
    "- Docker and docker-compose are tools used to host a Web Application. Docker creates an environment with the Web Application code and all its dependencies, making it easy to develop, ship, and run applications.\n",
    "\n",
    "- Nginx is an open-source software that serves as a web server, reverse proxy, and performs other functions to help locate and manage Web Applications on a server.\n",
    "\n",
    "- Certbot is a free tool that automatically obtains and manages secure HTTPS certificates from Let's Encrypt, ensuring reliable and secure web traffic.\n",
    "\n",
    "- DNS, or Domain Name Services, allows assigning user-friendly names to web servers. Freenom, the cloud service mentioned here, has been used to register the nighthawkcodingsociety.com domain, which is configured in Nginx and Certbot files."
   ]
  },
  {
   "cell_type": "markdown",
   "metadata": {},
   "source": [
    "## Overview - Steps for Deployment (Nandan)\n",
    "\n",
    "1. First thing that you need is a backend server. Backend server basically allows you to test your APIs and helps deploy your website. This is the first important step.\n",
    "2. EC2 Setup (This will have the most information):\n",
    "Log in to AWS IAM User: Start by logging into your AWS account with your IAM user credentials.\n",
    "\n",
    "Launch a New EC2 Instance: Once logged in, search for EC2 and launch a new instance. You'll be guided through the setup process.\n",
    "\n",
    "Choose an Amazon Machine Image (AMI): An AMI is like a template for your virtual machine. Pick Ubuntu as your operating system, ensuring it's the latest version approved by your teacher.\n",
    "\n",
    "Select Free Tier for Memory and Disk: Opt for the Free Tier options to avoid unnecessary costs since this instance is for testing purposes only.\n",
    "\n",
    "Configure Security Settings: Make sure to enable access for HTTP and HTTPS if your application will use these protocols. This ensures your web application can run smoothly.\n",
    "\n",
    "Name Your Security Group (.pem) File: This file is crucial for accessing your instance securely via SSH. Name it after yourself or your team for easy identification.\n",
    "\n",
    "Use Defaults for Remaining Steps: Most other settings can be left as default unless you have specific requirements. You can refer to AWS documentation for further guidance.\n",
    "\n",
    "Connect to Instance: Once the instance is set up, you can connect to it. This provides you with a terminal-like experience, allowing you to interact with your virtual machine.\n",
    "\n",
    "\n",
    "3. Deployment process:\n",
    "\n",
    "You run through an EC2 using the steps above, and then after this you connect to an instance in which it helps deploy your website. An instance can contain many backend websites, in this case it would contain other classmate's backends data for testing. \n"
   ]
  },
  {
   "cell_type": "markdown",
   "metadata": {},
   "source": []
  }
 ],
 "metadata": {
  "language_info": {
   "name": "python"
  }
 },
 "nbformat": 4,
 "nbformat_minor": 2
}
