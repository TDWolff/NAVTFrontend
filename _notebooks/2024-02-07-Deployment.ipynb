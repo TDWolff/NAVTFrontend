{
 "cells": [
  {
   "cell_type": "markdown",
   "metadata": {},
   "source": [
    "---\n",
    "toc: true\n",
    "comments: true\n",
    "layout: notebook\n",
    "title: IPYNB Table, Code\n",
    "description:  Example!!! This sample shows markdown cell, markdown table, markdown code fencing, and code cells.\n",
    "courses: { compsci: {week: 13} }\n",
    "type: hacks\n",
    "---"
   ]
  },
  {
   "cell_type": "markdown",
   "metadata": {},
   "source": [
    "## Theory and background for Deployment\n",
    "\n",
    "- Deployment is mainly used for backend, this is because in order to deploy our main website to test our backend.\n",
    "- Any APIs or anything that is used in python will be tested in the backend\n",
    "- "
   ]
  }
 ],
 "metadata": {
  "language_info": {
   "name": "python"
  }
 },
 "nbformat": 4,
 "nbformat_minor": 2
}
