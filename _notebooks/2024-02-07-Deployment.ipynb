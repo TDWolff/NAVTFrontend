{
 "cells": [
  {
   "cell_type": "markdown",
   "metadata": {},
   "source": [
    "---\n",
    "toc: true\n",
    "comments: true\n",
    "layout: notebook\n",
    "title: IPYNB Table, Code\n",
    "description:  Example!!! This sample shows markdown cell, markdown table, markdown code fencing, and code cells.\n",
    "courses: { compsci: {week: 13} }\n",
    "type: hacks\n",
    "---"
   ]
  },
  {
   "cell_type": "markdown",
   "metadata": {},
   "source": [
    "## Theory and background for Deployment\n",
    "\n",
    "- Deployment is mainly used for backend, this is because in order to deploy our main website to test our backend.\n",
    "- Any APIs or anything that is used in python will be tested in the backend\n",
    "- We are going to be deploying our CPT project (make sure its your team one and not your individual used for the spotcheck)\n",
    "- "
   ]
  },
  {
   "cell_type": "markdown",
   "metadata": {},
   "source": [
    "## Tools for Deployment\n",
    "\n",
    "- Amazon Web Services (AWS) EC2 is a cloud platform provided by the PUSD district for students to use in hosting our Web Application.\n",
    "\n",
    "- GitHub is a widely used platform for sharing code over the Internet.\n",
    "\n",
    "- Docker and docker-compose are tools used to host a Web Application. Docker creates an environment with the Web Application code and all its dependencies, making it easy to develop, ship, and run applications.\n",
    "\n",
    "- Nginx is an open-source software that serves as a web server, reverse proxy, and performs other functions to help locate and manage Web Applications on a server.\n",
    "\n",
    "- Certbot is a free tool that automatically obtains and manages secure HTTPS certificates from Let's Encrypt, ensuring reliable and secure web traffic.\n",
    "\n",
    "- DNS, or Domain Name Services, allows assigning user-friendly names to web servers. Freenom, the cloud service mentioned here, has been used to register the nighthawkcodingsociety.com domain, which is configured in Nginx and Certbot files."
   ]
  },
  {
   "cell_type": "markdown",
   "metadata": {},
   "source": [
    "## Overview\n"
   ]
  }
 ],
 "metadata": {
  "language_info": {
   "name": "python"
  }
 },
 "nbformat": 4,
 "nbformat_minor": 2
}
