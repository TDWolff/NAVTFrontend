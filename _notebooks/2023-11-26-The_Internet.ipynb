{
 "cells": [
  {
   "cell_type": "markdown",
   "metadata": {},
   "source": [
    "---\n",
    "toc: true\n",
    "comments: True\n",
    "title: The Internet\n",
    "description: 4.1 The Internet Student Teaching\n",
    "courses: {'compsci': {'week': 14}}\n",
    "type: hacks\n",
    "authors: Nandan, Arnav, Varun, Torin\n",
    "---"
   ]
  },
  {
   "cell_type": "code",
   "execution_count": null,
   "metadata": {
    "vscode": {
     "languageId": "plaintext"
    }
   },
   "outputs": [],
   "source": []
  }
 ],
 "metadata": {
  "language_info": {
   "name": "python"
  }
 },
 "nbformat": 4,
 "nbformat_minor": 2
}
