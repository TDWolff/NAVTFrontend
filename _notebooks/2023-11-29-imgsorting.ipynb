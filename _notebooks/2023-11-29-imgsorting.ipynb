{
 "cells": [
  {
   "cell_type": "markdown",
   "metadata": {},
   "source": [
    "---\n",
    "toc: True\n",
    "comments: True\n",
    "title: Image Ai's\n",
    "description: A group of image ai's ranging from image sorting to image generation.\n",
    "courses: {'compsci': {'week': 13}}\n",
    "type: tangibles\n",
    "---"
   ]
  },
  {
   "cell_type": "markdown",
   "metadata": {},
   "source": [
    "# What is an Image Generator?\n",
    "An image generator is a program that can create images. This can be done in a variety of ways, but the most common way is to use a neural network. A neural network is a program that can learn from data. In this case, the data is images. The neural network will learn how to create images that look like the images it was trained on. This is called a generative adversarial network (GAN). The GAN is made up of two neural networks. One neural network is called the generator. The generator takes random noise as input and outputs an image. The other neural network is called the discriminator. The discriminator takes an image as input and outputs a probability that the image is real. The generator and discriminator are trained together. The generator tries to fool the discriminator by creating images that look real. The discriminator tries to tell the difference between real images and fake images. The generator we used for our project is called HugginFace transformers. It is a pretrained GAN that can generate images of people and animals from text.\n",
    "\n",
    "# What is an Image Sorter?\n",
    "An image sorter is a program that can sort images into categories. This can be done in a variety of ways, but the most common way is to use a neural network. A neural network is a program that can learn from data. In this case, the data is images. The neural network will learn how to sort images into categories. This is called a convolutional neural network (CNN). The CNN is made up of layers. Each layer is made up of neurons. Each neuron is connected to the neurons in the previous layer. The first layer is called the input layer. The input layer is connected to the neurons in the next layer. The next layer is called the hidden layer. The hidden layer is connected to the neurons in the next layer. The last layer is called the output layer. The output layer is connected to the neurons in the previous layer. The CNN we used for our project is called HugginFace transformers. It is a pretrained CNN that can sort images into categories. The way we sorted our pixels was through 9 different categories. The categories were: 1. RGB 2. Contrast 3. Hue 4. Saturation 5. Brightness 6. Luminance 7. Intensity 8. Minimum and 9. Random. Each of these methods are capable of sorting images into completely unique images. One of the examples would be seend below."
   ]
  },
  {
   "cell_type": "markdown",
   "metadata": {},
   "source": [
    "![image](https://user-images.githubusercontent.com/43976685/142362845-5b8b9b9b-5b9b-4b9e-8b9a-9b8b9b9b9b9b.png)"
   ]
  },
  {
   "cell_type": "markdown",
   "metadata": {},
   "source": [
    "### Image Sorting Algorithm\n",
    "[Go to Image Sorter](../../../imgsort.html)\n",
    "\n",
    "### Image Generation Algorithm\n",
    "[Go to Image Generator](../../../imggen.html)"
   ]
  }
 ],
 "metadata": {
  "kernelspec": {
   "display_name": "Python 3",
   "language": "python",
   "name": "python3"
  },
  "language_info": {
   "codemirror_mode": {
    "name": "ipython",
    "version": 3
   },
   "file_extension": ".py",
   "mimetype": "text/x-python",
   "name": "python",
   "nbconvert_exporter": "python",
   "pygments_lexer": "ipython3",
   "version": "3.11.6"
  }
 },
 "nbformat": 4,
 "nbformat_minor": 2
}
