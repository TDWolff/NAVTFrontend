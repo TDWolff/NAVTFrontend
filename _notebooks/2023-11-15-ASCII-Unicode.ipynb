{
 "cells": [
  {
   "cell_type": "markdown",
   "metadata": {},
   "source": [
    "---\n",
    "layout: post\n",
    "title: ASCII & Unicode\n",
    "description: ヾ(´〇`)ﾉ🎙️ ♪🎶♪ ♪ ACII Art.\n",
    "courses: { csa: {week: 1, categories: [3.A]} }\n",
    "categories: [C4.0]\n",
    "type: ccc\n",
    "---"
   ]
  }
 ],
 "metadata": {
  "language_info": {
   "name": "python"
  }
 },
 "nbformat": 4,
 "nbformat_minor": 2
}
