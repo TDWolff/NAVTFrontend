{
 "cells": [
  {
   "cell_type": "markdown",
   "metadata": {},
   "source": [
    "---\n",
    "toc: True\n",
    "comments: True\n",
    "title: The Internet\n",
    "description: Exploring the Internet\n",
    "courses: {'compsci': {'week': 13}}\n",
    "type: hacks\n",
    "---"
   ]
  },
  {
   "cell_type": "markdown",
   "metadata": {},
   "source": [
    "# Understanding the Internet\n",
    "\n",
    "The internet is a vast network of interconnected computers and devices that allows for the exchange of information and communication on a global scale. It is a fundamental part of modern life, influencing the way we work, socialize, and access information. Let's explore how the internet works and its key functionalities.\n",
    "\n",
    "## How the Internet Works\n",
    "\n",
    "### 1. **Network Infrastructure:**\n",
    "   - The internet is a network of networks, comprised of millions of devices connected through various technologies such as cables, fiber optics, and wireless connections.\n",
    "\n",
    "### 2. **Protocols:**\n",
    "   - Communication on the internet relies on protocols, which are standardized sets of rules that govern data transmission. For example, HTTP is used for web browsing.\n",
    "\n"
   ]
  },
  {
   "cell_type": "code",
   "execution_count": null,
   "metadata": {
    "vscode": {
     "languageId": "html"
    }
   },
   "outputs": [],
   "source": [
    "GET /index.html HTTP/1.1\n",
    "Host: www.example.com"
   ]
  },
  {
   "cell_type": "markdown",
   "metadata": {},
   "source": [
    "# IP Addresses:\n",
    "Every device connected to the internet is assigned a unique identifier called an IP address. This address helps in routing data to the correct destination.\n",
    "\n",
    "www.example.com -> 192.168.1.1\n",
    "\n",
    "This is similar to how your home address is used to deliver mail to your house. IP addresses are typically represented in a 32-bit format, with each 8-bit segment separated by a period. However, with the growth of the internet, the number of available IP addresses is running out. To solve this problem, a new standard called IPv6 was introduced, which uses a 128-bit format."
   ]
  },
  {
   "cell_type": "markdown",
   "metadata": {},
   "source": [
    "# Data Packets:\n",
    "Information is broken down into small packets for efficient transmission. These packets travel independently across the network and are reassembled at their destination.\n",
    "What the Internet Can Do\n",
    "# Information Retrieval:\n",
    "The internet serves as a vast repository of information. Search engines like Google help users find relevant content by indexing and ranking web pages.\n",
    "Question: How does a search engine determine the relevance of web pages?\n",
    "\n",
    "# Communication:\n",
    "Email, instant messaging, and social media platforms enable real-time communication, fostering connections across the globe.\n",
    "Question: What is the role of SMTP in email communication?\n",
    "\n",
    "# E-Commerce:\n",
    "Online shopping has become a significant aspect of the internet, allowing users to purchase goods and services from anywhere.\n",
    "Question: How do secure online transactions work?\n",
    "\n",
    "# Entertainment:\n",
    "Streaming services for music, movies, and games provide entertainment options, accessible to users at any time.\n",
    "Question: Briefly explain how streaming services deliver content to users in real-time.\n",
    "\n",
    "# Collaboration:\n",
    "Tools like Google Docs and cloud storage services facilitate collaboration, allowing individuals and teams to work on projects together, regardless of location.\n",
    "Question: How does cloud storage ensure data availability and accessibility?\n",
    "\n",
    "# Education:\n",
    "Online learning platforms offer a wealth of educational resources, making education accessible to people worldwide.\n",
    "Question: Name two advantages of online learning over traditional classroom education.\n",
    "\n",
    "# Conclusion\n",
    "In summary, the internet is a dynamic and ever-evolving network that plays a crucial role in our daily lives. Understanding its basic components and functionalities is essential for navigating the digital landscape effectively."
   ]
  }
 ],
 "metadata": {
  "language_info": {
   "name": "python"
  }
 },
 "nbformat": 4,
 "nbformat_minor": 2
}
